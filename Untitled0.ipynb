{
  "nbformat": 4,
  "nbformat_minor": 0,
  "metadata": {
    "colab": {
      "provenance": []
    },
    "kernelspec": {
      "name": "python3",
      "display_name": "Python 3"
    },
    "language_info": {
      "name": "python"
    }
  },
  "cells": [
    {
      "cell_type": "markdown",
      "source": [
        "# **Hand Written Digit Pridiction**"
      ],
      "metadata": {
        "id": "yx0PC4cazNfk"
      }
    },
    {
      "cell_type": "markdown",
      "source": [
        "# Objective\n",
        "\n",
        "The objective for handwritten digit prediction is to develop a machine learning model that can accurately recognize and classify handwritten digits (0-9) from image data. This task is commonly known as digit recognition or digit classification and is typically performed using datasets such as the MNIST dataset."
      ],
      "metadata": {
        "id": "-0ZtKZNH92Et"
      }
    },
    {
      "cell_type": "markdown",
      "source": [
        "# Data source\n",
        "For handwritten digit prediction, the most widely used and recognized data source is the MNIST dataset (Modified National Institute of Standards and Technology dataset). It is a benchmark dataset in the field of machine learning and computer vision for training various image processing systems."
      ],
      "metadata": {
        "id": "hElSpEb5-QLB"
      }
    },
    {
      "cell_type": "markdown",
      "source": [
        "## IMPORT LIBRARY"
      ],
      "metadata": {
        "id": "DYIY91OzzdaJ"
      }
    },
    {
      "cell_type": "code",
      "execution_count": 2,
      "metadata": {
        "id": "-U5fbTYJy3II"
      },
      "outputs": [],
      "source": [
        "import pandas as pd"
      ]
    },
    {
      "cell_type": "code",
      "source": [
        "import numpy as np"
      ],
      "metadata": {
        "id": "V2n-JZndz4Nc"
      },
      "execution_count": 3,
      "outputs": []
    },
    {
      "cell_type": "code",
      "source": [
        "import matplotlib.pyplot as plt\n"
      ],
      "metadata": {
        "id": "S_FaBKfSz9FG"
      },
      "execution_count": 4,
      "outputs": []
    },
    {
      "cell_type": "markdown",
      "source": [
        "## IMPORT DATA"
      ],
      "metadata": {
        "id": "ZopY6GJf0GBZ"
      }
    },
    {
      "cell_type": "code",
      "source": [
        "from sklearn.datasets import load_digits"
      ],
      "metadata": {
        "id": "JDlAnUKs0THm"
      },
      "execution_count": 5,
      "outputs": []
    },
    {
      "cell_type": "code",
      "source": [
        "df = load_digits()"
      ],
      "metadata": {
        "id": "zotc_I9Q0pwv"
      },
      "execution_count": 6,
      "outputs": []
    },
    {
      "cell_type": "code",
      "source": [
        "_, axes = plt.subplots(nrows=1, ncols=4, figsize=(10, 3))\n",
        "for ax, image, label in zip(axes, df.images, df.target):\n",
        "    ax.set_axis_off()\n",
        "    ax.imshow(image, cmap=plt.cm.gray_r, interpolation=\"nearest\")\n",
        "    ax.set_title(\"Training: %i\" % label)"
      ],
      "metadata": {
        "colab": {
          "base_uri": "https://localhost:8080/",
          "height": 227
        },
        "id": "1Qro2bed0vrU",
        "outputId": "cbdeb220-ea2d-4831-8cb0-111a6e793589"
      },
      "execution_count": 8,
      "outputs": [
        {
          "output_type": "display_data",
          "data": {
            "text/plain": [
              "<Figure size 1000x300 with 4 Axes>"
            ],
            "image/png": "[encoded data removed]"
          },
          "metadata": {}
        }
      ]
    },
    {
      "cell_type": "markdown",
      "source": [
        "# Data Preprocessing\n"
      ],
      "metadata": {
        "id": "sLTLyZC02BTm"
      }
    },
    {
      "cell_type": "code",
      "source": [
        "df.images.shape"
      ],
      "metadata": {
        "colab": {
          "base_uri": "https://localhost:8080/"
        },
        "id": "xTgcxcxY2K83",
        "outputId": "af883a2c-7fa8-41ac-f96b-c6fc8339bcf5"
      },
      "execution_count": 9,
      "outputs": [
        {
          "output_type": "execute_result",
          "data": {
            "text/plain": [
              "(1797, 8, 8)"
            ]
          },
          "metadata": {},
          "execution_count": 9
        }
      ]
    },
    {
      "cell_type": "code",
      "source": [
        "df.images[0]"
      ],
      "metadata": {
        "colab": {
          "base_uri": "https://localhost:8080/"
        },
        "id": "ItNvU9Zq2gWl",
        "outputId": "094dad09-4e94-4f13-bb62-b0d8f77018bb"
      },
      "execution_count": 10,
      "outputs": [
        {
          "output_type": "execute_result",
          "data": {
            "text/plain": [
              "array([[ 0.,  0.,  5., 13.,  9.,  1.,  0.,  0.],\n",
              "       [ 0.,  0., 13., 15., 10., 15.,  5.,  0.],\n",
              "       [ 0.,  3., 15.,  2.,  0., 11.,  8.,  0.],\n",
              "       [ 0.,  4., 12.,  0.,  0.,  8.,  8.,  0.],\n",
              "       [ 0.,  5.,  8.,  0.,  0.,  9.,  8.,  0.],\n",
              "       [ 0.,  4., 11.,  0.,  1., 12.,  7.,  0.],\n",
              "       [ 0.,  2., 14.,  5., 10., 12.,  0.,  0.],\n",
              "       [ 0.,  0.,  6., 13., 10.,  0.,  0.,  0.]])"
            ]
          },
          "metadata": {},
          "execution_count": 10
        }
      ]
    },
    {
      "cell_type": "markdown",
      "source": [],
      "metadata": {
        "id": "aMxc15ShzL81"
      }
    },
    {
      "cell_type": "code",
      "source": [
        "df.images[0].shape"
      ],
      "metadata": {
        "colab": {
          "base_uri": "https://localhost:8080/"
        },
        "id": "2XsaE05Z2rai",
        "outputId": "0d6c6e56-a07a-4341-f0ee-f547e60a34aa"
      },
      "execution_count": 11,
      "outputs": [
        {
          "output_type": "execute_result",
          "data": {
            "text/plain": [
              "(8, 8)"
            ]
          },
          "metadata": {},
          "execution_count": 11
        }
      ]
    },
    {
      "cell_type": "code",
      "source": [
        "len(df.images)"
      ],
      "metadata": {
        "colab": {
          "base_uri": "https://localhost:8080/"
        },
        "id": "9IB1AvZI2xNM",
        "outputId": "0a09ab00-9633-4b6b-9e62-e9e2511c553a"
      },
      "execution_count": 12,
      "outputs": [
        {
          "output_type": "execute_result",
          "data": {
            "text/plain": [
              "1797"
            ]
          },
          "metadata": {},
          "execution_count": 12
        }
      ]
    },
    {
      "cell_type": "code",
      "source": [
        "n_samples = len(df.images)\n",
        "data = df.images.reshape((n_samples, -1))"
      ],
      "metadata": {
        "id": "ZPhBSdgB25dL"
      },
      "execution_count": 13,
      "outputs": []
    },
    {
      "cell_type": "code",
      "source": [
        "data[0]"
      ],
      "metadata": {
        "colab": {
          "base_uri": "https://localhost:8080/"
        },
        "id": "wz7UMJC-3Hhz",
        "outputId": "c9d05f8e-0b89-4ab6-e045-a7d07153b44d"
      },
      "execution_count": 15,
      "outputs": [
        {
          "output_type": "execute_result",
          "data": {
            "text/plain": [
              "array([ 0.,  0.,  5., 13.,  9.,  1.,  0.,  0.,  0.,  0., 13., 15., 10.,\n",
              "       15.,  5.,  0.,  0.,  3., 15.,  2.,  0., 11.,  8.,  0.,  0.,  4.,\n",
              "       12.,  0.,  0.,  8.,  8.,  0.,  0.,  5.,  8.,  0.,  0.,  9.,  8.,\n",
              "        0.,  0.,  4., 11.,  0.,  1., 12.,  7.,  0.,  0.,  2., 14.,  5.,\n",
              "       10., 12.,  0.,  0.,  0.,  0.,  6., 13., 10.,  0.,  0.,  0.])"
            ]
          },
          "metadata": {},
          "execution_count": 15
        }
      ]
    },
    {
      "cell_type": "code",
      "source": [
        "data[0].shape"
      ],
      "metadata": {
        "colab": {
          "base_uri": "https://localhost:8080/"
        },
        "id": "3IrTwsMy3Lo2",
        "outputId": "fd7f72d1-2721-4983-ae22-774e32814d37"
      },
      "execution_count": 16,
      "outputs": [
        {
          "output_type": "execute_result",
          "data": {
            "text/plain": [
              "(64,)"
            ]
          },
          "metadata": {},
          "execution_count": 16
        }
      ]
    },
    {
      "cell_type": "code",
      "source": [
        "data.shape"
      ],
      "metadata": {
        "colab": {
          "base_uri": "https://localhost:8080/"
        },
        "id": "3jJ9u5z83TBJ",
        "outputId": "a416ea8e-646c-4794-cd70-8c4d98b1c6b1"
      },
      "execution_count": 17,
      "outputs": [
        {
          "output_type": "execute_result",
          "data": {
            "text/plain": [
              "(1797, 64)"
            ]
          },
          "metadata": {},
          "execution_count": 17
        }
      ]
    },
    {
      "cell_type": "markdown",
      "source": [
        "# Scaling Image Data"
      ],
      "metadata": {
        "id": "vxStXEWE3XaU"
      }
    },
    {
      "cell_type": "code",
      "source": [
        "data.min()"
      ],
      "metadata": {
        "colab": {
          "base_uri": "https://localhost:8080/"
        },
        "id": "f5Nhq5ih3WFA",
        "outputId": "ec4b41f5-b725-4a22-fb35-9b3646c09354"
      },
      "execution_count": 18,
      "outputs": [
        {
          "output_type": "execute_result",
          "data": {
            "text/plain": [
              "0.0"
            ]
          },
          "metadata": {},
          "execution_count": 18
        }
      ]
    },
    {
      "cell_type": "code",
      "source": [
        "data.max()"
      ],
      "metadata": {
        "colab": {
          "base_uri": "https://localhost:8080/"
        },
        "id": "p_Cv_WQj3pKP",
        "outputId": "fb4a09d4-26c5-442d-f479-8a59aadebd1a"
      },
      "execution_count": 19,
      "outputs": [
        {
          "output_type": "execute_result",
          "data": {
            "text/plain": [
              "16.0"
            ]
          },
          "metadata": {},
          "execution_count": 19
        }
      ]
    },
    {
      "cell_type": "code",
      "source": [
        "data = data/16"
      ],
      "metadata": {
        "id": "XERuFUWZ3tWc"
      },
      "execution_count": 20,
      "outputs": []
    },
    {
      "cell_type": "code",
      "source": [
        "data.min()"
      ],
      "metadata": {
        "colab": {
          "base_uri": "https://localhost:8080/"
        },
        "id": "v130609n3xjx",
        "outputId": "060b55bc-bdd6-48ac-a8e5-15b45219020b"
      },
      "execution_count": 21,
      "outputs": [
        {
          "output_type": "execute_result",
          "data": {
            "text/plain": [
              "0.0"
            ]
          },
          "metadata": {},
          "execution_count": 21
        }
      ]
    },
    {
      "cell_type": "code",
      "source": [
        "data.max()"
      ],
      "metadata": {
        "colab": {
          "base_uri": "https://localhost:8080/"
        },
        "id": "8bQS7wuW31-f",
        "outputId": "1200f71c-43a0-42e4-87f8-388ca4736d31"
      },
      "execution_count": 22,
      "outputs": [
        {
          "output_type": "execute_result",
          "data": {
            "text/plain": [
              "1.0"
            ]
          },
          "metadata": {},
          "execution_count": 22
        }
      ]
    },
    {
      "cell_type": "code",
      "source": [
        "data[0]"
      ],
      "metadata": {
        "colab": {
          "base_uri": "https://localhost:8080/"
        },
        "id": "JivfJUIf35B-",
        "outputId": "b9ea9f4e-9731-4564-aae9-695f085c44c1"
      },
      "execution_count": 23,
      "outputs": [
        {
          "output_type": "execute_result",
          "data": {
            "text/plain": [
              "array([0.    , 0.    , 0.3125, 0.8125, 0.5625, 0.0625, 0.    , 0.    ,\n",
              "       0.    , 0.    , 0.8125, 0.9375, 0.625 , 0.9375, 0.3125, 0.    ,\n",
              "       0.    , 0.1875, 0.9375, 0.125 , 0.    , 0.6875, 0.5   , 0.    ,\n",
              "       0.    , 0.25  , 0.75  , 0.    , 0.    , 0.5   , 0.5   , 0.    ,\n",
              "       0.    , 0.3125, 0.5   , 0.    , 0.    , 0.5625, 0.5   , 0.    ,\n",
              "       0.    , 0.25  , 0.6875, 0.    , 0.0625, 0.75  , 0.4375, 0.    ,\n",
              "       0.    , 0.125 , 0.875 , 0.3125, 0.625 , 0.75  , 0.    , 0.    ,\n",
              "       0.    , 0.    , 0.375 , 0.8125, 0.625 , 0.    , 0.    , 0.    ])"
            ]
          },
          "metadata": {},
          "execution_count": 23
        }
      ]
    },
    {
      "cell_type": "markdown",
      "source": [
        "# Train Test Split Data"
      ],
      "metadata": {
        "id": "Q8Kj0as53_bs"
      }
    },
    {
      "cell_type": "code",
      "source": [
        "from sklearn.model_selection import train_test_split"
      ],
      "metadata": {
        "id": "wEfB3xaW39kM"
      },
      "execution_count": 24,
      "outputs": []
    },
    {
      "cell_type": "code",
      "source": [
        "X_train, X_test, y_train, y_test = train_test_split(data, df.target, test_size=0.3)"
      ],
      "metadata": {
        "id": "LHUPv1gm4Q0S"
      },
      "execution_count": 26,
      "outputs": []
    },
    {
      "cell_type": "code",
      "source": [
        "X_train.shape, X_test.shape, y_train.shape, y_test.shape"
      ],
      "metadata": {
        "colab": {
          "base_uri": "https://localhost:8080/"
        },
        "id": "DNe6k6eN41DX",
        "outputId": "690fb893-cf8f-4825-cc6c-5f2d4902a59d"
      },
      "execution_count": 27,
      "outputs": [
        {
          "output_type": "execute_result",
          "data": {
            "text/plain": [
              "((1257, 64), (540, 64), (1257,), (540,))"
            ]
          },
          "metadata": {},
          "execution_count": 27
        }
      ]
    },
    {
      "cell_type": "markdown",
      "source": [
        "# Random Test Data"
      ],
      "metadata": {
        "id": "7T8PyJA75G50"
      }
    },
    {
      "cell_type": "markdown",
      "source": [],
      "metadata": {
        "id": "xOXE_6d74QRq"
      }
    },
    {
      "cell_type": "code",
      "source": [
        "from sklearn.ensemble import RandomForestClassifier"
      ],
      "metadata": {
        "id": "ry8bIlfg5NaW"
      },
      "execution_count": 29,
      "outputs": []
    },
    {
      "cell_type": "code",
      "source": [
        "rf = RandomForestClassifier()"
      ],
      "metadata": {
        "id": "rQxiKHMT5yON"
      },
      "execution_count": 30,
      "outputs": []
    },
    {
      "cell_type": "code",
      "source": [
        "rf.fit(X_train, y_train)"
      ],
      "metadata": {
        "colab": {
          "base_uri": "https://localhost:8080/",
          "height": 74
        },
        "id": "RhvpWKQ154d1",
        "outputId": "e328449c-afdf-47e9-c48b-002b87694617"
      },
      "execution_count": 32,
      "outputs": [
        {
          "output_type": "execute_result",
          "data": {
            "text/plain": [
              "RandomForestClassifier()"
            ],
            "text/html": [
              "<style>#sk-container-id-2 {color: black;background-color: white;}#sk-container-id-2 pre{padding: 0;}#sk-container-id-2 div.sk-toggleable {background-color: white;}#sk-container-id-2 label.sk-toggleable__label {cursor: pointer;display: block;width: 100%;margin-bottom: 0;padding: 0.3em;box-sizing: border-box;text-align: center;}#sk-container-id-2 label.sk-toggleable__label-arrow:before {content: \"▸\";float: left;margin-right: 0.25em;color: #696969;}#sk-container-id-2 label.sk-toggleable__label-arrow:hover:before {color: black;}#sk-container-id-2 div.sk-estimator:hover label.sk-toggleable__label-arrow:before {color: black;}#sk-container-id-2 div.sk-toggleable__content {max-height: 0;max-width: 0;overflow: hidden;text-align: left;background-color: #f0f8ff;}#sk-container-id-2 div.sk-toggleable__content pre {margin: 0.2em;color: black;border-radius: 0.25em;background-color: #f0f8ff;}#sk-container-id-2 input.sk-toggleable__control:checked~div.sk-toggleable__content {max-height: 200px;max-width: 100%;overflow: auto;}#sk-container-id-2 input.sk-toggleable__control:checked~label.sk-toggleable__label-arrow:before {content: \"▾\";}#sk-container-id-2 div.sk-estimator input.sk-toggleable__control:checked~label.sk-toggleable__label {background-color: #d4ebff;}#sk-container-id-2 div.sk-label input.sk-toggleable__control:checked~label.sk-toggleable__label {background-color: #d4ebff;}#sk-container-id-2 input.sk-hidden--visually {border: 0;clip: rect(1px 1px 1px 1px);clip: rect(1px, 1px, 1px, 1px);height: 1px;margin: -1px;overflow: hidden;padding: 0;position: absolute;width: 1px;}#sk-container-id-2 div.sk-estimator {font-family: monospace;background-color: #f0f8ff;border: 1px dotted black;border-radius: 0.25em;box-sizing: border-box;margin-bottom: 0.5em;}#sk-container-id-2 div.sk-estimator:hover {background-color: #d4ebff;}#sk-container-id-2 div.sk-parallel-item::after {content: \"\";width: 100%;border-bottom: 1px solid gray;flex-grow: 1;}#sk-container-id-2 div.sk-label:hover label.sk-toggleable__label {background-color: #d4ebff;}#sk-container-id-2 div.sk-serial::before {content: \"\";position: absolute;border-left: 1px solid gray;box-sizing: border-box;top: 0;bottom: 0;left: 50%;z-index: 0;}#sk-container-id-2 div.sk-serial {display: flex;flex-direction: column;align-items: center;background-color: white;padding-right: 0.2em;padding-left: 0.2em;position: relative;}#sk-container-id-2 div.sk-item {position: relative;z-index: 1;}#sk-container-id-2 div.sk-parallel {display: flex;align-items: stretch;justify-content: center;background-color: white;position: relative;}#sk-container-id-2 div.sk-item::before, #sk-container-id-2 div.sk-parallel-item::before {content: \"\";position: absolute;border-left: 1px solid gray;box-sizing: border-box;top: 0;bottom: 0;left: 50%;z-index: -1;}#sk-container-id-2 div.sk-parallel-item {display: flex;flex-direction: column;z-index: 1;position: relative;background-color: white;}#sk-container-id-2 div.sk-parallel-item:first-child::after {align-self: flex-end;width: 50%;}#sk-container-id-2 div.sk-parallel-item:last-child::after {align-self: flex-start;width: 50%;}#sk-container-id-2 div.sk-parallel-item:only-child::after {width: 0;}#sk-container-id-2 div.sk-dashed-wrapped {border: 1px dashed gray;margin: 0 0.4em 0.5em 0.4em;box-sizing: border-box;padding-bottom: 0.4em;background-color: white;}#sk-container-id-2 div.sk-label label {font-family: monospace;font-weight: bold;display: inline-block;line-height: 1.2em;}#sk-container-id-2 div.sk-label-container {text-align: center;}#sk-container-id-2 div.sk-container {/* jupyter's `normalize.less` sets `[hidden] { display: none; }` but bootstrap.min.css set `[hidden] { display: none !important; }` so we also need the `!important` here to be able to override the default hidden behavior on the sphinx rendered scikit-learn.org. See: https://github.com/scikit-learn/scikit-learn/issues/21755 */display: inline-block !important;position: relative;}#sk-container-id-2 div.sk-text-repr-fallback {display: none;}</style><div id=\"sk-container-id-2\" class=\"sk-top-container\"><div class=\"sk-text-repr-fallback\"><pre>RandomForestClassifier()</pre><b>In a Jupyter environment, please rerun this cell to show the HTML representation or trust the notebook. <br />On GitHub, the HTML representation is unable to render, please try loading this page with nbviewer.org.</b></div><div class=\"sk-container\" hidden><div class=\"sk-item\"><div class=\"sk-estimator sk-toggleable\"><input class=\"sk-toggleable__control sk-hidden--visually\" id=\"sk-estimator-id-2\" type=\"checkbox\" checked><label for=\"sk-estimator-id-2\" class=\"sk-toggleable__label sk-toggleable__label-arrow\">RandomForestClassifier</label><div class=\"sk-toggleable__content\"><pre>RandomForestClassifier()</pre></div></div></div></div></div>"
            ]
          },
          "metadata": {},
          "execution_count": 32
        }
      ]
    },
    {
      "cell_type": "markdown",
      "source": [
        "# Predict Test Data"
      ],
      "metadata": {
        "id": "R1TNZ6kf6JZa"
      }
    },
    {
      "cell_type": "markdown",
      "source": [
        "# New section"
      ],
      "metadata": {
        "id": "jBuGX8h838ap"
      }
    },
    {
      "cell_type": "code",
      "source": [
        "y_pred = rf.predict(X_test)"
      ],
      "metadata": {
        "id": "PLYbkARC6OnE"
      },
      "execution_count": 33,
      "outputs": []
    },
    {
      "cell_type": "code",
      "source": [
        "y_pred"
      ],
      "metadata": {
        "colab": {
          "base_uri": "https://localhost:8080/"
        },
        "id": "UOvVFbTM6bN5",
        "outputId": "47563526-3a42-4548-e49a-b5bc9743ff51"
      },
      "execution_count": 34,
      "outputs": [
        {
          "output_type": "execute_result",
          "data": {
            "text/plain": [
              "array([9, 5, 6, 0, 3, 6, 3, 7, 5, 0, 5, 5, 0, 6, 7, 1, 2, 2, 6, 3, 9, 9,\n",
              "       0, 1, 1, 0, 3, 0, 9, 3, 3, 3, 5, 5, 8, 9, 0, 4, 4, 6, 7, 3, 6, 3,\n",
              "       6, 5, 3, 1, 6, 9, 8, 0, 5, 8, 8, 7, 2, 1, 6, 8, 4, 9, 6, 0, 1, 1,\n",
              "       1, 0, 9, 2, 8, 1, 4, 1, 7, 9, 5, 7, 7, 5, 6, 3, 9, 1, 2, 9, 3, 6,\n",
              "       6, 8, 3, 8, 6, 0, 2, 7, 1, 1, 2, 2, 4, 9, 0, 2, 1, 4, 5, 5, 8, 4,\n",
              "       2, 9, 4, 0, 2, 3, 4, 8, 6, 7, 2, 3, 6, 0, 4, 7, 7, 2, 8, 8, 4, 9,\n",
              "       9, 5, 3, 7, 0, 3, 0, 2, 7, 5, 7, 7, 6, 5, 6, 7, 2, 6, 0, 4, 7, 2,\n",
              "       9, 9, 7, 2, 9, 6, 2, 1, 4, 3, 0, 7, 6, 6, 0, 0, 3, 0, 5, 3, 7, 3,\n",
              "       4, 4, 6, 0, 9, 3, 9, 9, 7, 3, 5, 9, 5, 1, 3, 8, 8, 2, 8, 2, 6, 4,\n",
              "       8, 8, 2, 5, 9, 1, 8, 7, 4, 8, 1, 2, 5, 8, 1, 4, 4, 6, 0, 1, 5, 2,\n",
              "       6, 6, 4, 4, 9, 7, 8, 1, 8, 8, 9, 7, 9, 1, 0, 2, 6, 0, 5, 8, 5, 3,\n",
              "       5, 4, 9, 6, 5, 1, 6, 9, 3, 2, 9, 7, 7, 0, 5, 8, 3, 2, 8, 4, 8, 6,\n",
              "       3, 1, 5, 6, 0, 8, 3, 3, 5, 6, 9, 0, 7, 7, 4, 9, 9, 6, 7, 7, 9, 9,\n",
              "       9, 1, 9, 5, 8, 9, 0, 3, 7, 3, 6, 6, 7, 5, 1, 8, 1, 0, 9, 7, 8, 4,\n",
              "       8, 0, 8, 2, 4, 7, 3, 3, 3, 0, 8, 7, 5, 8, 0, 1, 9, 8, 4, 7, 1, 7,\n",
              "       3, 8, 6, 7, 5, 2, 9, 2, 5, 5, 1, 2, 5, 0, 9, 2, 8, 6, 9, 9, 2, 1,\n",
              "       1, 4, 5, 4, 0, 4, 0, 2, 0, 7, 4, 9, 9, 7, 0, 6, 9, 7, 6, 4, 5, 0,\n",
              "       5, 0, 9, 3, 7, 2, 3, 6, 9, 3, 6, 2, 9, 4, 4, 0, 4, 8, 5, 6, 8, 1,\n",
              "       4, 7, 1, 6, 4, 4, 3, 1, 0, 4, 7, 1, 1, 5, 1, 5, 2, 6, 3, 4, 3, 1,\n",
              "       9, 4, 1, 7, 5, 3, 7, 2, 9, 9, 5, 1, 4, 3, 9, 1, 4, 1, 0, 5, 4, 5,\n",
              "       0, 0, 6, 2, 5, 5, 9, 8, 4, 5, 2, 3, 4, 0, 8, 7, 4, 9, 3, 8, 1, 1,\n",
              "       6, 7, 0, 6, 6, 9, 2, 4, 6, 2, 2, 3, 5, 0, 0, 1, 0, 0, 1, 5, 2, 7,\n",
              "       2, 0, 0, 4, 4, 4, 8, 6, 7, 7, 8, 5, 5, 3, 8, 4, 2, 3, 3, 2, 4, 5,\n",
              "       1, 6, 1, 5, 3, 4, 0, 9, 1, 3, 4, 1, 7, 1, 6, 1, 5, 6, 9, 2, 3, 9,\n",
              "       1, 1, 9, 7, 4, 3, 7, 4, 7, 0, 5, 4])"
            ]
          },
          "metadata": {},
          "execution_count": 34
        }
      ]
    },
    {
      "cell_type": "markdown",
      "source": [
        "# Model Accuracy"
      ],
      "metadata": {
        "id": "9SdxmP8z6nEy"
      }
    },
    {
      "cell_type": "code",
      "source": [
        "from sklearn.metrics import confusion_matrix, classification_report"
      ],
      "metadata": {
        "id": "zRJzpnaP6sRg"
      },
      "execution_count": 35,
      "outputs": []
    },
    {
      "cell_type": "code",
      "source": [
        "confusion_matrix(y_test, y_pred)"
      ],
      "metadata": {
        "colab": {
          "base_uri": "https://localhost:8080/"
        },
        "id": "VKdL85YK66yX",
        "outputId": "ed87de7e-f139-43de-cc93-2c88e3a5af11"
      },
      "execution_count": 36,
      "outputs": [
        {
          "output_type": "execute_result",
          "data": {
            "text/plain": [
              "array([[54,  0,  0,  0,  0,  0,  0,  0,  0,  0],\n",
              "       [ 0, 54,  0,  0,  0,  0,  0,  0,  1,  0],\n",
              "       [ 1,  0, 47,  0,  0,  0,  0,  0,  0,  0],\n",
              "       [ 0,  0,  0, 54,  0,  0,  0,  0,  0,  0],\n",
              "       [ 0,  0,  0,  0, 58,  0,  0,  0,  0,  0],\n",
              "       [ 0,  0,  0,  0,  0, 55,  0,  0,  1,  1],\n",
              "       [ 0,  1,  0,  0,  0,  0, 54,  0,  0,  0],\n",
              "       [ 0,  0,  0,  0,  0,  0,  0, 53,  0,  0],\n",
              "       [ 0,  0,  0,  0,  0,  1,  0,  0, 42,  0],\n",
              "       [ 0,  0,  0,  0,  0,  0,  0,  2,  2, 59]])"
            ]
          },
          "metadata": {},
          "execution_count": 36
        }
      ]
    },
    {
      "cell_type": "code",
      "source": [
        "print(classification_report(y_test,y_pred))"
      ],
      "metadata": {
        "colab": {
          "base_uri": "https://localhost:8080/"
        },
        "id": "0EgZj0m_7G6q",
        "outputId": "1422c3bc-9892-4a0a-a51d-f2d0c28d2f4a"
      },
      "execution_count": 38,
      "outputs": [
        {
          "output_type": "stream",
          "name": "stdout",
          "text": [
            "              precision    recall  f1-score   support\n",
            "\n",
            "           0       0.98      1.00      0.99        54\n",
            "           1       0.98      0.98      0.98        55\n",
            "           2       1.00      0.98      0.99        48\n",
            "           3       1.00      1.00      1.00        54\n",
            "           4       1.00      1.00      1.00        58\n",
            "           5       0.98      0.96      0.97        57\n",
            "           6       1.00      0.98      0.99        55\n",
            "           7       0.96      1.00      0.98        53\n",
            "           8       0.91      0.98      0.94        43\n",
            "           9       0.98      0.94      0.96        63\n",
            "\n",
            "    accuracy                           0.98       540\n",
            "   macro avg       0.98      0.98      0.98       540\n",
            "weighted avg       0.98      0.98      0.98       540\n",
            "\n"
          ]
        }
      ]
    },
    {
      "cell_type": "markdown",
      "source": [
        "# Explaination\n",
        "Handwritten digit prediction, also known as digit recognition or classification, involves developing a machine learning model to identify and classify images of handwritten digits. Here’s an in-depth explanation of the process, including the data preparation, model building, training, and evaluation steps:\n",
        "\n",
        "1. Understanding the Problem\n",
        "The goal is to classify images of handwritten digits (0-9) correctly. This involves taking an image as input and predicting which digit it represents. This task is common in optical character recognition (OCR) systems, which are used in various applications like digitizing handwritten documents, automated form processing, and even recognizing addresses on mail.\n",
        "\n",
        "2. Data Source\n",
        "The primary dataset used for this task is the MNIST dataset. Here are the key points:\n",
        "\n",
        "MNIST Dataset: Contains 70,000 grayscale images of handwritten digits.\n",
        "Training Set: 60,000 images.\n",
        "Test Set: 10,000 images.\n",
        "Image Size: Each image is 28x28 pixels.\n",
        "3. Data Preparation\n",
        "Before feeding the data into a machine learning model, some preprocessing steps are necessary:\n",
        "\n",
        "Normalization: Scale the pixel values to a range of 0 to 1. This is done by dividing each pixel value by 255 (the maximum pixel value).\n",
        "Reshaping: Flatten the 28x28 images into a 1D array of 784 pixels if using a fully connected neural network. For convolutional neural networks (CNNs), maintain the 2D structure.\n",
        "4. Model Building\n",
        "We can use different types of neural networks for this task. Here, we'll focus on a simple feedforward neural network. The steps include:\n",
        "\n",
        "Input Layer: Accepts the 784 features (flattened pixels) from each image.\n",
        "Hidden Layers: Includes one or more dense layers with activation functions like ReLU (Rectified Linear Unit).\n",
        "Output Layer: Contains 10 neurons (one for each digit), with a softmax activation function to produce a probability distribution over the 10 classes.\n",
        "5. Training the Model\n",
        "Training involves adjusting the model's weights using an optimization algorithm to minimize the loss function. Here's a step-by-step process:\n",
        "\n",
        "Compile the Model:\n",
        "\n",
        "Optimizer: Adam optimizer is often used for its efficiency.\n",
        "Loss Function: Sparse categorical cross-entropy is suitable for multi-class classification problems.\n",
        "Metrics: Accuracy to monitor the fraction of correctly predicted digits.\n",
        "Fit the Model:\n",
        "\n",
        "Feed the training data into the model.\n",
        "Specify the number of epochs (iterations over the entire dataset).\n",
        "Optionally, include validation data to monitor performance on unseen data during training.\n",
        "6. Evaluating the Model\n",
        "After training, evaluate the model on the test set to see how well it generalizes to new, unseen data. This involves calculating the accuracy and possibly other metrics like precision, recall, and F1-score"
      ],
      "metadata": {
        "id": "a9s-sTJ0-lfC"
      }
    }
  ]
}